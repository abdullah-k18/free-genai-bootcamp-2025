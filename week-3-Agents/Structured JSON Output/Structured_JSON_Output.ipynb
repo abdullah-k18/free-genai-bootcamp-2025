{
  "nbformat": 4,
  "nbformat_minor": 0,
  "metadata": {
    "colab": {
      "provenance": []
    },
    "kernelspec": {
      "name": "python3",
      "display_name": "Python 3"
    },
    "language_info": {
      "name": "python"
    }
  },
  "cells": [
    {
      "cell_type": "markdown",
      "metadata": {
        "id": "view-in-github"
      },
      "source": [
        "<a href=\"https://colab.research.google.com/github/janali-17/RAG_Project/blob/main/RAG.ipynb\" target=\"_parent\"><img src=\"https://colab.research.google.com/assets/colab-badge.svg\" alt=\"Open In Colab\"/></a>"
      ]
    },
    {
      "cell_type": "code",
      "source": [
        "!pip install groq youtube-transcript-api"
      ],
      "metadata": {
        "id": "ArtRAGO3ajSt"
      },
      "execution_count": null,
      "outputs": []
    },
    {
      "cell_type": "code",
      "source": [
        "from groq import Groq\n",
        "from youtube_transcript_api import YouTubeTranscriptApi\n",
        "import json"
      ],
      "metadata": {
        "id": "k0rTuoe80-O-"
      },
      "execution_count": 19,
      "outputs": []
    },
    {
      "cell_type": "code",
      "source": [
        "api_key = "",
        "client = Groq(api_key=api_key)"
      ],
      "metadata": {
        "id": "89CFAYC815f6"
      },
      "execution_count": 14,
      "outputs": []
    },
    {
      "cell_type": "code",
      "source": [
        "def extract_video_id(url):\n",
        "    if \"youtube.com/watch?v=\" in url:\n",
        "        return url.split(\"v=\")[1].split(\"&\")[0]\n",
        "    elif \"youtu.be/\" in url:\n",
        "        return url.split(\"youtu.be/\")[1].split(\"?\")[0]\n",
        "    return None\n",
        "\n",
        "video_url = \"https://www.youtube.com/watch?v=OuZrhykVytg&t=334s\"\n",
        "video_id = extract_video_id(video_url)"
      ],
      "metadata": {
        "id": "BJ33tRXa4v9v"
      },
      "execution_count": 22,
      "outputs": []
    },
    {
      "cell_type": "code",
      "source": [
        "if video_id:\n",
        "    try:\n",
        "        transcript = YouTubeTranscriptApi.get_transcript(video_id)\n",
        "        transcript_text = \" \".join([t[\"text\"] for t in transcript])\n",
        "\n",
        "        print(\"Transcript fetched successfully!\\nGenerating quiz questions...\")\n",
        "\n",
        "        prompt = f\"\"\"\n",
        "        Generate 10 quiz questions and answers from the following text:\n",
        "        {transcript_text}\n",
        "\n",
        "        Format the output as a JSON array of objects with:\n",
        "        - 'question': The quiz question\n",
        "        - 'answer': The correct answer\n",
        "\n",
        "        Example Output:\n",
        "        [\n",
        "            {{\"question\": \"What is AI?\", \"answer\": \"AI stands for Artificial Intelligence.\"}},\n",
        "            {{\"question\": \"Who developed Python?\", \"answer\": \"Guido van Rossum developed Python.\"}}\n",
        "        ]\n",
        "        \"\"\"\n",
        "\n",
        "        response = client.chat.completions.create(\n",
        "            model=\"llama-3.3-70b-versatile\",\n",
        "            messages=[{\"role\": \"user\", \"content\": prompt}]\n",
        "        )\n",
        "\n",
        "        response_text = response.choices[0].message.content.strip()\n",
        "        print(\"\\nRaw Response from Groq:\")\n",
        "        print(response_text)\n",
        "\n",
        "        cleaned_response = response_text.replace(\"```json\", \"\").replace(\"```\", \"\").strip()\n",
        "\n",
        "        quiz_questions = json.loads(cleaned_response)\n",
        "\n",
        "        print(\"\\nGenerated Quiz Questions:\")\n",
        "        for idx, qna in enumerate(quiz_questions, 1):\n",
        "            print(f\"{idx}. {qna['question']}\\n   Answer: {qna['answer']}\\n\")\n",
        "\n",
        "        with open(\"quiz.json\", \"w\", encoding=\"utf-8\") as f:\n",
        "            json.dump(quiz_questions, f, indent=4, ensure_ascii=False)\n",
        "\n",
        "        print(\"\\n✅ Quiz saved as quiz.json!\")\n",
        "\n",
        "    except Exception as e:\n",
        "        print(\"Error:\", e)\n",
        "else:\n",
        "    print(\"Invalid YouTube URL\")"
      ],
      "metadata": {
        "colab": {
          "base_uri": "https://localhost:8080/"
        },
        "id": "5Ho_xvQgd_my",
        "outputId": "1ef57e0c-7113-4308-e97b-04375b2ca669"
      },
      "execution_count": 25,
      "outputs": [
        {
          "output_type": "stream",
          "name": "stdout",
          "text": [
            "Transcript fetched successfully!\n",
            "Generating quiz questions...\n",
            "\n",
            "Raw Response from Groq:\n",
            "```\n",
            "[\n",
            "    {\"question\": \"What are events in C# and how do they work?\", \"answer\": \"Events in C# are a way of notifying other classes that something has happened. They work by having a publisher that fires an event, and subscribers that listen to that event and perform an action when it is fired.\"},\n",
            "    {\"question\": \"What is the benefit of using events in C#?\", \"answer\": \"The benefit of using events in C# is that they allow objects to work together without being tightly coupled, making the code more flexible and easier to maintain.\"},\n",
            "    {\"question\": \"How do you define an event in C#?\", \"answer\": \"You define an event in C# by using the 'event' keyword, followed by the type of the event, which is typically a delegate, such as EventHandler.\"},\n",
            "    {\"question\": \"What is the purpose of the 'EventArgs' class in C# events?\", \"answer\": \"The 'EventArgs' class is used to pass additional information to the event handler when an event is fired.\"},\n",
            "    {\"question\": \"How do you subscribe to an event in C#?\", \"answer\": \"You subscribe to an event in C# by using the '+=' operator, followed by the event handler method that will be called when the event is fired.\"},\n",
            "    {\"question\": \"How do you unsubscribe from an event in C#?\", \"answer\": \"You unsubscribe from an event in C# by using the '-=' operator, followed by the event handler method that was previously subscribed to the event.\"},\n",
            "    {\"question\": \"What is the difference between a regular event and a Unity event?\", \"answer\": \"A Unity event is similar to a regular event, but it is shown in the Unity editor and can be easily set up and connected to other objects and methods.\"},\n",
            "    {\"question\": \"What is the benefit of using Unity events?\", \"answer\": \"The benefit of using Unity events is that they can be easily set up and connected to other objects and methods in the Unity editor, making it easier to design and test gameplay logic.\"},\n",
            "    {\"question\": \"Can you use a custom delegate type for an event in C#?\", \"answer\": \"Yes, you can use a custom delegate type for an event in C# by defining a delegate type that matches the signature of the event handler method.\"},\n",
            "    {\"question\": \"What is the purpose of the 'Action' delegate in C#?\", \"answer\": \"The 'Action' delegate is a built-in delegate type in C# that represents a method that takes no arguments and returns no value, and can be used as a type for an event or a method parameter.\"}\n",
            "]\n",
            "```\n",
            "\n",
            "Generated Quiz Questions:\n",
            "1. What are events in C# and how do they work?\n",
            "   Answer: Events in C# are a way of notifying other classes that something has happened. They work by having a publisher that fires an event, and subscribers that listen to that event and perform an action when it is fired.\n",
            "\n",
            "2. What is the benefit of using events in C#?\n",
            "   Answer: The benefit of using events in C# is that they allow objects to work together without being tightly coupled, making the code more flexible and easier to maintain.\n",
            "\n",
            "3. How do you define an event in C#?\n",
            "   Answer: You define an event in C# by using the 'event' keyword, followed by the type of the event, which is typically a delegate, such as EventHandler.\n",
            "\n",
            "4. What is the purpose of the 'EventArgs' class in C# events?\n",
            "   Answer: The 'EventArgs' class is used to pass additional information to the event handler when an event is fired.\n",
            "\n",
            "5. How do you subscribe to an event in C#?\n",
            "   Answer: You subscribe to an event in C# by using the '+=' operator, followed by the event handler method that will be called when the event is fired.\n",
            "\n",
            "6. How do you unsubscribe from an event in C#?\n",
            "   Answer: You unsubscribe from an event in C# by using the '-=' operator, followed by the event handler method that was previously subscribed to the event.\n",
            "\n",
            "7. What is the difference between a regular event and a Unity event?\n",
            "   Answer: A Unity event is similar to a regular event, but it is shown in the Unity editor and can be easily set up and connected to other objects and methods.\n",
            "\n",
            "8. What is the benefit of using Unity events?\n",
            "   Answer: The benefit of using Unity events is that they can be easily set up and connected to other objects and methods in the Unity editor, making it easier to design and test gameplay logic.\n",
            "\n",
            "9. Can you use a custom delegate type for an event in C#?\n",
            "   Answer: Yes, you can use a custom delegate type for an event in C# by defining a delegate type that matches the signature of the event handler method.\n",
            "\n",
            "10. What is the purpose of the 'Action' delegate in C#?\n",
            "   Answer: The 'Action' delegate is a built-in delegate type in C# that represents a method that takes no arguments and returns no value, and can be used as a type for an event or a method parameter.\n",
            "\n",
            "\n",
            "✅ Quiz saved as quiz.json!\n"
          ]
        }
      ]
    }
  ]
}
